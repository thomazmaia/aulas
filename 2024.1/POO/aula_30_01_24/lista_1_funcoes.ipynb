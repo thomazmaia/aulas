{
 "cells": [
  {
   "cell_type": "markdown",
   "metadata": {},
   "source": [
    "<h1 style=\"text-align: center;\">INSTITUTO FEDERAL DO CEARÁ</h1>"
   ]
  },
  {
   "cell_type": "markdown",
   "metadata": {},
   "source": [
    "<h2 style=\"text-align: center;\">CAMPUS MARANGUAPE</h2>"
   ]
  },
  {
   "cell_type": "markdown",
   "metadata": {},
   "source": [
    "<h3 style=\"text-align: center;\">Programação Orientada a Objetos</h3>\n",
    "<h3 style=\"text-align: center;\">prof. Thomaz Maia</h3>"
   ]
  },
  {
   "cell_type": "markdown",
   "metadata": {},
   "source": [
    "<h1 style=\"text-align: center;\"> Lista de Exercícios 1 - Funções</h1>"
   ]
  },
  {
   "cell_type": "markdown",
   "metadata": {},
   "source": [
    "#### Aluno: fulano de tal"
   ]
  },
  {
   "cell_type": "markdown",
   "metadata": {},
   "source": [
    "**1. Crie uma função para fazer um menu de calculadora chamada escreve_menu.**"
   ]
  },
  {
   "cell_type": "code",
   "execution_count": 1,
   "metadata": {},
   "outputs": [],
   "source": [
    "def escreve_menu():\n",
    "    print(\"--- Calculadora ---\")\n",
    "    print(\"Opções: \")\n",
    "    print(\"0 - Sair\")\n",
    "    print(\"1 - Somar\")\n",
    "    print(\"2 - Multiplicar\")\n",
    "    print(\"3 - Dividir\")\n",
    "    print(\"-------------------\")\n",
    "    op = int(input(\"Opção: \"))\n",
    "    return op"
   ]
  },
  {
   "cell_type": "code",
   "execution_count": 2,
   "metadata": {},
   "outputs": [
    {
     "name": "stdout",
     "output_type": "stream",
     "text": [
      "--- Calculadora ---\n",
      "Opções: \n",
      "0 - Sair\n",
      "1 - Somar\n",
      "2 - Multiplicar\n",
      "3 - Dividir\n",
      "-------------------\n",
      "3\n"
     ]
    }
   ],
   "source": [
    "print(escreve_menu())"
   ]
  },
  {
   "cell_type": "markdown",
   "metadata": {},
   "source": [
    "**2. Crie uma função que receba dois números e mostre o resultado das quatro operações básicas.**"
   ]
  },
  {
   "cell_type": "code",
   "execution_count": 3,
   "metadata": {},
   "outputs": [],
   "source": [
    "def calc_operacoes(num1, num2):\n",
    "    print(f\"Soma = {num1 + num2}\")\n",
    "    print(f\"Subtração = {num1 - num2}\")\n",
    "    print(f\"Multiplicação = {num1 * num2}\")\n",
    "    print(f\"Divisão = {num1 / num2}\")"
   ]
  },
  {
   "cell_type": "code",
   "execution_count": 4,
   "metadata": {},
   "outputs": [
    {
     "name": "stdout",
     "output_type": "stream",
     "text": [
      "Soma = 15\n",
      "Subtração = 5\n",
      "Multiplicação = 50\n",
      "Divisão = 2.0\n"
     ]
    }
   ],
   "source": [
    "calc_operacoes(10, 5)"
   ]
  },
  {
   "cell_type": "markdown",
   "metadata": {},
   "source": [
    "**3. Crie quatro funções para as quatro operações básicas. Essas funções devem receber dois valores e retornar o resultado. Escreva esse resultado.**"
   ]
  },
  {
   "cell_type": "code",
   "execution_count": 6,
   "metadata": {},
   "outputs": [],
   "source": [
    "def somar(num1, num2):\n",
    "    return num1 + num2"
   ]
  },
  {
   "cell_type": "code",
   "execution_count": 7,
   "metadata": {},
   "outputs": [],
   "source": [
    "def subtrair(num1, num2):\n",
    "    return num1 - num2"
   ]
  },
  {
   "cell_type": "code",
   "execution_count": 8,
   "metadata": {},
   "outputs": [],
   "source": [
    "def multiplicar(num1, num2):\n",
    "    return num1 * num2"
   ]
  },
  {
   "cell_type": "code",
   "execution_count": 9,
   "metadata": {},
   "outputs": [],
   "source": [
    "def dividir(num1, num2):\n",
    "    return num1 / num2"
   ]
  },
  {
   "cell_type": "code",
   "execution_count": 10,
   "metadata": {},
   "outputs": [
    {
     "name": "stdout",
     "output_type": "stream",
     "text": [
      "8\n",
      "-5\n",
      "25.0\n",
      "3.3333333333333335\n"
     ]
    }
   ],
   "source": [
    "print(somar(3, 5))\n",
    "print(subtrair(5, 10))\n",
    "print(multiplicar(10, 2.5))\n",
    "print(dividir(10, 3))"
   ]
  }
 ],
 "metadata": {
  "kernelspec": {
   "display_name": "Python 3",
   "language": "python",
   "name": "python3"
  },
  "language_info": {
   "codemirror_mode": {
    "name": "ipython",
    "version": 3
   },
   "file_extension": ".py",
   "mimetype": "text/x-python",
   "name": "python",
   "nbconvert_exporter": "python",
   "pygments_lexer": "ipython3",
   "version": "3.11.3"
  }
 },
 "nbformat": 4,
 "nbformat_minor": 2
}
