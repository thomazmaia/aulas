{
 "cells": [
  {
   "cell_type": "markdown",
   "metadata": {},
   "source": [
    "<h1 style=\"text-align: center;\">INSTITUTO FEDERAL DO CEARÁ</h1>"
   ]
  },
  {
   "cell_type": "markdown",
   "metadata": {},
   "source": [
    "<h2 style=\"text-align: center;\">CAMPUS MARANGUAPE</h2>"
   ]
  },
  {
   "cell_type": "markdown",
   "metadata": {},
   "source": [
    "<h3 style=\"text-align: center;\">Programação Orientada a Objetos</h3>\n",
    "<h3 style=\"text-align: center;\">prof. Thomaz Maia</h3>"
   ]
  },
  {
   "cell_type": "markdown",
   "metadata": {},
   "source": [
    "<h1 style=\"text-align: center;\"> Lista de Exercícios 1 - Funções</h1>"
   ]
  },
  {
   "cell_type": "markdown",
   "metadata": {},
   "source": [
    "Aluno: fulano de tal"
   ]
  },
  {
   "cell_type": "markdown",
   "metadata": {},
   "source": [
    "**1. Crie uma função para fazer um menu de calculadora chamada escreve_menu.**"
   ]
  },
  {
   "cell_type": "code",
   "execution_count": null,
   "metadata": {},
   "outputs": [],
   "source": [
    "def escreve_menu():\n",
    "    print(\"--- Calculadora ---\")\n",
    "    print(\"Opções: \")\n",
    "    print(\"0 - Sair\")\n",
    "    print(\"1 - Somar\")\n",
    "    print(\"2 - Multiplicar\")\n",
    "    print(\"3 - Dividir\")\n",
    "    print(\"-------------------\")\n",
    "    op = int(input(\"Opção: \"))\n",
    "    return op"
   ]
  },
  {
   "cell_type": "code",
   "execution_count": null,
   "metadata": {},
   "outputs": [],
   "source": [
    "print(escreve_menu())"
   ]
  }
 ],
 "metadata": {
  "language_info": {
   "name": "python"
  }
 },
 "nbformat": 4,
 "nbformat_minor": 2
}
